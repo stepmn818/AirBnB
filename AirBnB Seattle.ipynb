{
 "cells": [
  {
   "cell_type": "code",
   "execution_count": 1,
   "id": "fea64170",
   "metadata": {},
   "outputs": [],
   "source": [
    "# Import libraries\n",
    "import pandas as pd\n",
    "import numpy as np\n",
    "import utils\n",
    "import matplotlib.pyplot as plt"
   ]
  },
  {
   "cell_type": "code",
   "execution_count": 2,
   "id": "ab739e31",
   "metadata": {},
   "outputs": [],
   "source": [
    "# Import data\n",
    "input_listings = './data/seattle/listings.csv'\n",
    "input_reviews = './data/seattle/reviews.csv'\n",
    "input_calendar = './data/seattle/calendar.csv'\n",
    "\n",
    "calendar = pd.read_csv(input_calendar)\n",
    "listings = pd.read_csv(input_listings)\n",
    "reviews = pd.read_csv(input_reviews)"
   ]
  },
  {
   "cell_type": "markdown",
   "id": "d613a8c2",
   "metadata": {},
   "source": [
    "### Utils functions"
   ]
  },
  {
   "cell_type": "markdown",
   "id": "eae3d118",
   "metadata": {},
   "source": [
    "This section contains the functions which are used in this notebook."
   ]
  },
  {
   "cell_type": "code",
   "execution_count": 3,
   "id": "7fdc48e2",
   "metadata": {},
   "outputs": [],
   "source": [
    "def convert2float(numeric_in_string):\n",
    "    '''\n",
    "    Converts a number in string to float\n",
    "    :param numeric_in_string: number in string\n",
    "    :return: number in float\n",
    "    '''\n",
    "    if pd.isna(numeric_in_string):\n",
    "        p = numeric_in_string\n",
    "    else:\n",
    "        p = float(numeric_in_string.strip(\"$\").replace(',', ''))\n",
    "    return p"
   ]
  },
  {
   "cell_type": "code",
   "execution_count": 4,
   "id": "aa811b05",
   "metadata": {},
   "outputs": [],
   "source": [
    "def create_dummy_df(df, cat_cols):\n",
    "    '''\n",
    "    Creates dummies for categorical variables, drop the categorical variable columns, and create\n",
    "    a concatenate dataframe for numeric and categorical variables\n",
    "    :param df: a dataframe containing numeric variables and categorical variables\n",
    "    :param cat_cols: a list of categorical variables\n",
    "    :return: a concatenated dataframe with numeric variables and dummies variables\n",
    "    '''\n",
    "    for col in cat_cols:\n",
    "        if isinstance(df[col][0], str):\n",
    "            cat_df = pd.get_dummies(df[col], prefix=col, prefix_sep='_', drop_first=False, dummy_na=True)\n",
    "            df = df.drop(col, axis=1)\n",
    "            combined_df = pd.concat([df, cat_df], axis=1)\n",
    "            return combined_df\n",
    "        elif isinstance(df[col][0], list):\n",
    "            cat_df = df[col].str.join(sep='*').str.get_dummies(sep='*')\n",
    "            df = df.drop(col, axis=1)\n",
    "            combined_df = pd.concat([df, cat_df], axis=1)\n",
    "            return combined_df"
   ]
  },
  {
   "cell_type": "code",
   "execution_count": 5,
   "id": "d09aab6c",
   "metadata": {},
   "outputs": [],
   "source": [
    "def create_linear_model(df, response_col, test_size):\n",
    "    '''\n",
    "    Defines predicting variables from dataframe as X, target variable as y. Split X, y into\n",
    "    training set, test set based on test_size. Standardised the scale in features. Instantiates a linear\n",
    "    regression model, fits the model to training set, predicts the output of X_test, X_train. Lastly,\n",
    "    calculates the r2 scores\n",
    "    :param df: dataframe containing predicting variables and target variable\n",
    "    :param response_col: the target variable\n",
    "    :param test_size: size of test set\n",
    "    :return: r2score for train set, test set\n",
    "    '''\n",
    "    from sklearn.preprocessing import StandardScaler\n",
    "    from sklearn.linear_model import LinearRegression\n",
    "    from sklearn.model_selection import train_test_split\n",
    "    from sklearn.pipeline import make_pipeline\n",
    "    from sklearn.metrics import r2_score\n",
    "\n",
    "    X = df.drop(response_col, axis=1).values\n",
    "    y = df[response_col].values\n",
    "\n",
    "    X_train, X_test, y_train, y_test = train_test_split(X, y, test_size=test_size, random_state=420)\n",
    "    lm_model = make_pipeline(StandardScaler(with_std=False), LinearRegression())\n",
    "    lm_model.fit(X_train, y_train)\n",
    "\n",
    "    y_test_preds = lm_model.predict(X_test)\n",
    "    y_train_preds = lm_model.predict(X_train)\n",
    "\n",
    "    test_score = r2_score(y_test, y_test_preds)\n",
    "    train_score = r2_score(y_train, y_train_preds)\n",
    "\n",
    "    return test_score, train_score"
   ]
  },
  {
   "cell_type": "code",
   "execution_count": 6,
   "id": "f1370b04",
   "metadata": {},
   "outputs": [],
   "source": [
    "def extract_amenities(df, amenities_col, common_amenities_col, topN_Items):\n",
    "    '''\n",
    "    Extracts amenities (TV, Internet, etc...) from the amenities column in a given dataframe.\n",
    "    :param df: pricePredictDF dataframe\n",
    "    :param amenities_col: the 'amenities' column\n",
    "    :param common_amenities_col: the common_amenities column\n",
    "    :return: pricePredictDF dataframe\n",
    "    '''\n",
    "    # extract amenities\n",
    "    amenitiesCandidates = extract_amenities_candidates(df, amenities_col)\n",
    "\n",
    "    # find the most common amenities\n",
    "    amenities_list = find_common_items(amenitiesCandidates, topN_Items)\n",
    "\n",
    "    df[common_amenities_col] = find_matching_amenities(df, common_amenities_col, amenities_list)\n",
    "    return df"
   ]
  },
  {
   "cell_type": "code",
   "execution_count": 7,
   "id": "a5dd1164",
   "metadata": {},
   "outputs": [],
   "source": [
    "def convert_string_to_list(df_row):\n",
    "    '''\n",
    "    Replaces punctuations in string and converts the string to list\n",
    "    :param df_row: string on each row in given dataframe\n",
    "    :return: a list of string\n",
    "    '''\n",
    "    amenitiesCandidates = df_row.replace('\"', '').replace(\"{\", \"\").replace(\"}\", \"\").replace(\"''\", \"\")\n",
    "    amenitiesCandidates = amenitiesCandidates.split(\",\")\n",
    "    return amenitiesCandidates"
   ]
  },
  {
   "cell_type": "code",
   "execution_count": 8,
   "id": "39b39f3e",
   "metadata": {},
   "outputs": [],
   "source": [
    "def find_matching_amenities(df, original_col, common_amenities_list):\n",
    "    '''\n",
    "    Compares the original amenities col to the common amenities list. It returns a list of\n",
    "    matching amenities for each row\n",
    "    :param df: pricePredictDF dataframe\n",
    "    :param original_col: 'amenities' col in pricePredictDF dataframe\n",
    "    :param common_amenities_list: common amenities list\n",
    "    :return: matching list of amenities for each row\n",
    "    '''\n",
    "    amenitieslist = []\n",
    "\n",
    "    for original_list in df[original_col]:\n",
    "        amenitiesPerRow = []\n",
    "        for ele in original_list:\n",
    "            if ele in common_amenities_list:\n",
    "                amenitiesPerRow.append(ele)\n",
    "        amenitieslist.append(amenitiesPerRow)\n",
    "    return amenitieslist"
   ]
  },
  {
   "cell_type": "code",
   "execution_count": 9,
   "id": "b7466ef4",
   "metadata": {},
   "outputs": [],
   "source": [
    "def extract_amenities_candidates(df, amenities_col):\n",
    "    '''\n",
    "    Extracts amenities for each row from amenities column in a given dataframe, extend them to a list\n",
    "    of amenities.\n",
    "    :param df: pricePredictDF dataframe\n",
    "    :param amenities_col: amenities column from pricePredictDF dataframe\n",
    "    :return: a list of all amenities candidates\n",
    "    '''\n",
    "    rowCandidatesSum = []\n",
    "    for row in df[amenities_col]:\n",
    "        rowCandidates = convert_string_to_list(row)\n",
    "        rowCandidatesSum.extend(rowCandidates)\n",
    "    return rowCandidatesSum"
   ]
  },
  {
   "cell_type": "code",
   "execution_count": 10,
   "id": "80fd64d4",
   "metadata": {},
   "outputs": [],
   "source": [
    "def find_common_items(items_list, topN_Items):\n",
    "    '''\n",
    "    Finds common items in an item list\n",
    "    :param items_list: a list of items\n",
    "    :param topN_Items: Number of common items\n",
    "    :return: a list of common items\n",
    "    '''\n",
    "    import collections\n",
    "\n",
    "    commonItemsList = []\n",
    "    counter = collections.Counter(items_list)\n",
    "    for name, count in counter.most_common(n=topN_Items):\n",
    "        commonItemsList.append(name)\n",
    "    return commonItemsList"
   ]
  },
  {
   "cell_type": "code",
   "execution_count": 11,
   "id": "2bf8b88a",
   "metadata": {},
   "outputs": [],
   "source": [
    "def subset_dataset(df, subset_col, criteria):\n",
    "    '''\n",
    "    Subsets the dataframe which equals the criteria value of the subset_col\n",
    "    :param df: the listings dataframe\n",
    "    :param subset_col: the column for subset\n",
    "    :param criteria: subset criteria. it's a value in the subset_col\n",
    "    :return: a subset dataframe meeting the criteria\n",
    "    '''\n",
    "\n",
    "    subset_option = df.loc[df[subset_col] == criteria]\n",
    "    return subset_option\n",
    "\n",
    "\n",
    "def clean_text(df_row, stopwords_list):\n",
    "    '''\n",
    "    Cleans the text on a row in a dataframe\n",
    "    :param df_row: the text row in a dataframe\n",
    "    :param stopwords_list: a list of words to be removed\n",
    "    :return: the clean text row\n",
    "    '''\n",
    "    import re\n",
    "\n",
    "    if not pd.isna(df_row):\n",
    "        # remove punctuation\n",
    "        output_str = re.sub(r'[^\\w]+(\\s+|$)', ' ', df_row).strip()\n",
    "        output_str = output_str.replace('\"', '')\n",
    "\n",
    "        # remove stopwords\n",
    "        filtered_words = remove_stopwords(output_str, stopwords_list)\n",
    "        lemmatized_words = lemmatize_text(filtered_words)\n",
    "        output_str = ' '.join(lemmatized_words)\n",
    "\n",
    "        return output_str\n",
    "    else:\n",
    "        output_str = \" \"\n",
    "        df_row = output_str\n",
    "        return df_row\n",
    "\n",
    "\n",
    "def remove_stopwords(df_row, stopwords_list):\n",
    "    '''\n",
    "    Removes common stopwords from the text row in a dataframe\n",
    "    :param df_row: the text row in a dataframe\n",
    "    :param stopwords_list: a list of words to be removed\n",
    "    :return: text row without common stopwords\n",
    "    '''\n",
    "    from nltk.corpus import stopwords\n",
    "\n",
    "    word_list = df_row.lower().split()\n",
    "    filtered_words = [word for word in word_list if word not in stopwords.words('english')]\n",
    "    filtered_words = [word for word in filtered_words if word not in stopwords_list]\n",
    "    return filtered_words\n",
    "\n",
    "\n",
    "def lemmatize_text(filtered_words_list):\n",
    "    from nltk.stem import WordNetLemmatizer\n",
    "\n",
    "    lemmatized_words = []\n",
    "\n",
    "    lemmatizer = WordNetLemmatizer()\n",
    "\n",
    "    for word in filtered_words_list:\n",
    "        lemmatized_word = lemmatizer.lemmatize(word)\n",
    "        lemmatized_words.append(lemmatized_word)\n",
    "    return lemmatized_words\n",
    "\n",
    "\n",
    "def create_wordcloud(df, text_col):\n",
    "    '''\n",
    "    Creates a wordcloud to populate the common words in the text_col\n",
    "    :param df: a dataframe\n",
    "    :param text_col: a text column for finding common words\n",
    "    :return: a wordcloud\n",
    "    '''\n",
    "    from wordcloud import WordCloud, STOPWORDS\n",
    "    import matplotlib.pyplot as plt\n",
    "\n",
    "    text = \" \".join(review for review in df[text_col])\n",
    "\n",
    "    # Create stopword list:\n",
    "    stopwords = set(STOPWORDS)\n",
    "    stopwords.update([\"neighborhood\", \"seattle\", \"belltown\", \"pike\", \"place\", \"many\", \"N\", \"great\", \"walk\", \"close\",\n",
    "                      \"lot\", \"minute\", \"block\", \"junction\", \"walking\", \"distance\", \"home\", \"lock\", \"good\", \"best\",\n",
    "                      \"lower\", \"located\", \"mile\", \"top\", \"house\", \"away\", \"one\", \"volunteer\", \"away\", \"house\",\n",
    "                      \"center\", \"nearby\", \"within\", \"view\", \"well\", \"everything\", \"street\", \"take\"])\n",
    "\n",
    "    # Generate a word cloud image\n",
    "    wordcloud = WordCloud(collocations=True, stopwords=stopwords, background_color=\"white\").generate(text)\n",
    "    print(\"wordcloud words:\", wordcloud.words_)\n",
    "\n",
    "    # Display the generated image\n",
    "    plt.figure(figsize=(14, 12))\n",
    "    plt.imshow(wordcloud, interpolation='bilinear')\n",
    "    plt.axis(\"off\")\n",
    "    plt.show()"
   ]
  },
  {
   "cell_type": "markdown",
   "id": "c1ab55a5",
   "metadata": {},
   "source": [
    "### EDA / Assess Data"
   ]
  },
  {
   "cell_type": "markdown",
   "id": "e13a5a1a",
   "metadata": {},
   "source": [
    "###\tQ1 - What are the busiest times of the year to visit Seattle?"
   ]
  },
  {
   "cell_type": "markdown",
   "id": "afce2edb",
   "metadata": {},
   "source": [
    "### Data Preparation"
   ]
  },
  {
   "cell_type": "code",
   "execution_count": 12,
   "id": "ca3027e8",
   "metadata": {},
   "outputs": [],
   "source": [
    "# get the year and month\n",
    "calendar['year'] = pd.DatetimeIndex(calendar['date']).year\n",
    "calendar['month'] = pd.DatetimeIndex(calendar['date']).month\n",
    "\n",
    "# Since there is incomplete data in 2017, remove these rows to minimise the bias\n",
    "calendar = calendar[calendar['year'] < 2017]"
   ]
  },
  {
   "cell_type": "code",
   "execution_count": 13,
   "id": "6b26e20e",
   "metadata": {},
   "outputs": [],
   "source": [
    "# Remove $ sign from price and convert price in str to float\n",
    "calendar['price'] = calendar['price'].apply(lambda x:utils.convert2float(x))"
   ]
  },
  {
   "cell_type": "markdown",
   "id": "bb73209d",
   "metadata": {},
   "source": [
    "### Availability distribution"
   ]
  },
  {
   "cell_type": "code",
   "execution_count": 14,
   "id": "34345933",
   "metadata": {},
   "outputs": [
    {
     "data": {
      "image/png": "[encoded data removed]",
      "text/plain": [
       "<Figure size 720x576 with 1 Axes>"
      ]
     },
     "metadata": {
      "needs_background": "light"
     },
     "output_type": "display_data"
    }
   ],
   "source": [
    "# plot airBnB availability\n",
    "ax = pd.crosstab(calendar['month'], calendar['available']).apply(lambda r: r/r.sum()*100, axis=1)\n",
    "ax_1 = ax.plot.bar(figsize=(10,8), stacked=False, rot=0)\n",
    "L = plt.legend(loc='upper right', title=\"Available\")\n",
    "L.get_texts()[0].set_text('Not Available')\n",
    "L.get_texts()[1].set_text('Available')\n",
    "plt.show()"
   ]
  },
  {
   "cell_type": "markdown",
   "id": "9ace6abd",
   "metadata": {},
   "source": [
    "### Insights\n",
    "The busiest time to visit Seattle is January. January has the least amount of available rental properties on AirBnB. "
   ]
  },
  {
   "cell_type": "markdown",
   "id": "1b568bdf",
   "metadata": {},
   "source": [
    "### Q2. By how much do prices spike?"
   ]
  },
  {
   "cell_type": "code",
   "execution_count": null,
   "id": "572cd37a",
   "metadata": {},
   "outputs": [],
   "source": [
    "# Calculate the mean price per month\n",
    "calendar_available_price_grouped = calendar_available.groupby(by=['month'])['price'].mean().reset_index()\n",
    "# calendar_available_price_grouped"
   ]
  },
  {
   "cell_type": "code",
   "execution_count": null,
   "id": "6aea8ff3",
   "metadata": {},
   "outputs": [],
   "source": [
    "# plot the price line chart\n",
    "plt.figure(figsize=(12,8))\n",
    "\n",
    "plt.plot(calendar_available_price_grouped['month'], calendar_available_price_grouped['price'], marker='o')\n",
    "plt.title(\"Price fluctuations over months\")\n",
    "plt.xlabel(\"Month\")\n",
    "plt.ylabel(\"Price\")\n",
    "plt.grid(True)\n",
    "plt.show()"
   ]
  },
  {
   "cell_type": "markdown",
   "id": "9da4a89b",
   "metadata": {},
   "source": [
    "### Insights\n",
    "The highest price is at July. About 60% of the properties were rented out. The lowest price was in Janaury, resulted in about 70% of properties were rented out. The price growth was pretty steady from January to the peak in July; the price then declined gradually and increased a bit again for December."
   ]
  },
  {
   "cell_type": "code",
   "execution_count": null,
   "id": "76e70763",
   "metadata": {},
   "outputs": [],
   "source": [
    "priceSpikePercent = round((calendar_available_price_grouped.iloc[6,1] - calendar_available_price_grouped.iloc[0,1])/calendar_available_price_grouped.iloc[0,1] * 100, 2)\n",
    "print(\"The price in July was about {}% higher than the price in Jan\".format(priceSpikePercent))"
   ]
  },
  {
   "cell_type": "markdown",
   "id": "a13e8969",
   "metadata": {},
   "source": [
    "### TODO - How to adjust the price to ensure each proerty would be rented out every month?"
   ]
  },
  {
   "cell_type": "markdown",
   "id": "ddbdae4a",
   "metadata": {},
   "source": [
    "### Q3 - What features predict Price"
   ]
  },
  {
   "cell_type": "markdown",
   "id": "77f27f53",
   "metadata": {},
   "source": [
    "#### Data Cleaning"
   ]
  },
  {
   "cell_type": "code",
   "execution_count": null,
   "id": "b9591880",
   "metadata": {},
   "outputs": [],
   "source": [
    "pricePredictDF = listings[['neighbourhood_group_cleansed', 'property_type', 'accommodates', 'bathrooms', 'bedrooms',\n",
    "                           'beds', \n",
    "                           'review_scores_rating',\n",
    "                           'amenities', \n",
    "                           'cleaning_fee', \n",
    "                           'price']]"
   ]
  },
  {
   "cell_type": "code",
   "execution_count": null,
   "id": "bff4522b",
   "metadata": {},
   "outputs": [],
   "source": [
    "# Convert cleaning fee column to float\n",
    "pricePredictDF['cleaning_fee_float'] = pricePredictDF['cleaning_fee'].apply(lambda x: utils.convert2float(x))\n",
    "\n",
    "# Remove the row with missing property type\n",
    "pricePredictDF = pricePredictDF.dropna(subset=['property_type'])\n",
    "\n",
    "# Convert price column to float\n",
    "pricePredictDF['price'] = pricePredictDF['price'].apply(lambda x:utils.convert2float(x))"
   ]
  },
  {
   "cell_type": "code",
   "execution_count": null,
   "id": "7874cbd8",
   "metadata": {},
   "outputs": [],
   "source": [
    "# check correlation for numeric vars\n",
    "numerics = ['int16', 'int32', 'int64', 'float16', 'float32', 'float64']\n",
    "numeric_vars_df = pricePredictDF.select_dtypes(include=numerics)\n",
    "\n",
    "numeric_vars_df.corr()"
   ]
  },
  {
   "cell_type": "markdown",
   "id": "67e67ea4",
   "metadata": {},
   "source": [
    "<code>accommodates</code> has a very strong relationship with <code>bedrooms</code> and <code>beds</code>. And <code>accommodates</code> has the strongest relationship with <code>price</code>. Let's keep <code>accommodates</code>.<br>\n",
    "<code>review_scores_rating</code> has a weak relationship with <code>price</code>. Let's remove it too.\n",
    "<br>"
   ]
  },
  {
   "cell_type": "code",
   "execution_count": null,
   "id": "6704613d",
   "metadata": {},
   "outputs": [],
   "source": [
    "pricePredictDF = pricePredictDF[[\n",
    "                                 'neighbourhood_group_cleansed', \n",
    "                                 'property_type', \n",
    "                                 'bathrooms', \n",
    "                                 'accommodates', \n",
    "#                                  'review_scores_rating',\n",
    "                                 'amenities', \n",
    "                                 'cleaning_fee_float',\n",
    "                                 'price']]"
   ]
  },
  {
   "cell_type": "code",
   "execution_count": null,
   "id": "bc01648e",
   "metadata": {},
   "outputs": [],
   "source": [
    "# handling missing values\n",
    "pricePredictDF['bathrooms'] = pricePredictDF['bathrooms'].fillna(pricePredictDF['bathrooms'].median())\n",
    "# pricePredictDF['bedrooms'] = pricePredictDF['bedrooms'].fillna(pricePredictDF['bedrooms'].median())\n",
    "# pricePredictDF['beds'] = pricePredictDF['beds'].fillna(pricePredictDF['beds'].median())\n",
    "# pricePredictDF['review_scores_rating'] = pricePredictDF['review_scores_rating'].fillna(pricePredictDF['review_scores_rating'].median())\n",
    "pricePredictDF['cleaning_fee_float'] = pricePredictDF['cleaning_fee_float'].fillna(pricePredictDF['cleaning_fee_float'].median())"
   ]
  },
  {
   "cell_type": "code",
   "execution_count": null,
   "id": "9d44c93f",
   "metadata": {},
   "outputs": [],
   "source": [
    "# Extract Common Amenities to list\n",
    "pricePredictDF['amenities'][0]\n",
    "\n",
    "pricePredictDF['common_amenities'] = pricePredictDF['amenities'].apply(lambda x: utils.convert_string_to_list(x))\n",
    "pricePredictDF = utils.extract_amenities(pricePredictDF, 'amenities', 'common_amenities', 15)"
   ]
  },
  {
   "cell_type": "code",
   "execution_count": null,
   "id": "f0e3caf5",
   "metadata": {},
   "outputs": [],
   "source": [
    "# create dummy for categorical variables\n",
    "pricePredictDF = utils.create_dummy_df(pricePredictDF, ['property_type'])\n",
    "pricePredictDF = utils.create_dummy_df(pricePredictDF, ['neighbourhood_group_cleansed'])\n",
    "pricePredictDF = utils.create_dummy_df(pricePredictDF, ['common_amenities'])\n",
    "pricePredictDF = pricePredictDF.drop('amenities', axis=1)"
   ]
  },
  {
   "cell_type": "code",
   "execution_count": null,
   "id": "3003eaad",
   "metadata": {},
   "outputs": [],
   "source": [
    "pricePredictDF.columns"
   ]
  },
  {
   "cell_type": "code",
   "execution_count": null,
   "id": "ac994aac",
   "metadata": {},
   "outputs": [],
   "source": [
    "test_score, train_score = utils.create_linear_model(pricePredictDF, 'price', 0.2)"
   ]
  },
  {
   "cell_type": "code",
   "execution_count": null,
   "id": "70eb598c",
   "metadata": {},
   "outputs": [],
   "source": [
    "#Print training and testing score\n",
    "print(\"The rsquared on the training data was {}.  The rsquared on the test data was {}.\".format(train_score, test_score))"
   ]
  },
  {
   "cell_type": "markdown",
   "id": "9bf74c74",
   "metadata": {},
   "source": [
    "### Q4 - Can you describe the vibe of each Seattle neighborhood using listing descriptions?"
   ]
  },
  {
   "cell_type": "code",
   "execution_count": null,
   "id": "c746d484",
   "metadata": {},
   "outputs": [],
   "source": [
    "seattleTowns = listings['neighbourhood_group_cleansed'].unique().tolist()  \n",
    "seattleTowns = [town.lower().split() for town in seattleTowns]\n",
    "\n",
    "seattleTowns_flat = [item for sublist in seattleTowns for item in sublist]"
   ]
  },
  {
   "cell_type": "code",
   "execution_count": null,
   "id": "71615b80",
   "metadata": {},
   "outputs": [],
   "source": [
    "listings['neighborhood_overview_cleaned'] = listings['neighborhood_overview'].apply(lambda x: utils.clean_text(x, seattleTowns_flat))"
   ]
  },
  {
   "cell_type": "code",
   "execution_count": null,
   "id": "52178c7f",
   "metadata": {},
   "outputs": [],
   "source": [
    "downtown = utils.subset_dataset(listings, 'neighbourhood_group_cleansed', 'Downtown')\n",
    "capitolHill = utils.subset_dataset(listings, 'neighbourhood_group_cleansed', 'Capitol Hill')\n",
    "queenAnne = utils.subset_dataset(listings, 'neighbourhood_group_cleansed', 'Queen Anne')\n",
    "ballard = utils.subset_dataset(listings, 'neighbourhood_group_cleansed', 'Ballard')\n",
    "weatSeattle = utils.subset_dataset(listings, 'neighbourhood_group_cleansed', 'West Seattle')\n",
    "northgate = utils.subset_dataset(listings, 'neighbourhood_group_cleansed', 'Northgate')\n",
    "beaconHill = utils.subset_dataset(listings, 'neighbourhood_group_cleansed', 'Beacon Hill')"
   ]
  },
  {
   "cell_type": "code",
   "execution_count": null,
   "id": "83b12f99",
   "metadata": {},
   "outputs": [],
   "source": [
    "# downtown\n",
    "utils.create_wordcloud(downtown, 'neighborhood_overview_cleaned')"
   ]
  },
  {
   "cell_type": "code",
   "execution_count": null,
   "id": "b53e0f0d",
   "metadata": {},
   "outputs": [],
   "source": [
    "# capitol hill\n",
    "utils.create_wordcloud(capitolHill, 'neighborhood_overview_cleaned')"
   ]
  },
  {
   "cell_type": "code",
   "execution_count": null,
   "id": "0d8887a0",
   "metadata": {},
   "outputs": [],
   "source": [
    "# queen anne\n",
    "utils.create_wordcloud(queenAnne, 'neighborhood_overview_cleaned')"
   ]
  },
  {
   "cell_type": "code",
   "execution_count": null,
   "id": "b7823581",
   "metadata": {},
   "outputs": [],
   "source": [
    "# ballard\n",
    "utils.create_wordcloud(ballard, 'neighborhood_overview_cleaned')"
   ]
  },
  {
   "cell_type": "code",
   "execution_count": null,
   "id": "fea4e0d4",
   "metadata": {},
   "outputs": [],
   "source": [
    "# west seattle\n",
    "utils.create_wordcloud(weatSeattle, 'neighborhood_overview_cleaned')"
   ]
  },
  {
   "cell_type": "code",
   "execution_count": null,
   "id": "346f65bf",
   "metadata": {},
   "outputs": [],
   "source": [
    "# north gate\n",
    "utils.create_wordcloud(northgate, 'neighborhood_overview_cleaned')"
   ]
  },
  {
   "cell_type": "code",
   "execution_count": null,
   "id": "05397537",
   "metadata": {},
   "outputs": [],
   "source": [
    "# beacon hill\n",
    "utils.create_wordcloud(beaconHill, 'neighborhood_overview_cleaned')"
   ]
  },
  {
   "cell_type": "code",
   "execution_count": null,
   "id": "aaf71248",
   "metadata": {},
   "outputs": [],
   "source": []
  },
  {
   "cell_type": "markdown",
   "id": "d466bc84",
   "metadata": {},
   "source": [
    "### Q3 - negative and positive reviews"
   ]
  },
  {
   "cell_type": "code",
   "execution_count": null,
   "id": "3533ecb4",
   "metadata": {},
   "outputs": [],
   "source": []
  }
 ],
 "metadata": {
  "kernelspec": {
   "display_name": "AirBnB",
   "language": "python",
   "name": "airbnb"
  },
  "language_info": {
   "codemirror_mode": {
    "name": "ipython",
    "version": 3
   },
   "file_extension": ".py",
   "mimetype": "text/x-python",
   "name": "python",
   "nbconvert_exporter": "python",
   "pygments_lexer": "ipython3",
   "version": "3.9.7"
  }
 },
 "nbformat": 4,
 "nbformat_minor": 5
}
